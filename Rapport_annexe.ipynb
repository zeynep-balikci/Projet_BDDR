{
 "cells": [
  {
   "cell_type": "code",
   "execution_count": 1,
   "id": "2080ca6a",
   "metadata": {
    "id": "2080ca6a",
    "outputId": "e230f21c-00ef-4451-a134-4f0065998b7f"
   },
   "outputs": [
    {
     "name": "stdout",
     "output_type": "stream",
     "text": [
      "theme='POPULATION'\n",
      "theme='RELEVANT FACTORS'\n",
      "theme='PATIENT DESCRIPTIONS'\n",
      "theme='MODELS AND OPEN QUESTIONS'\n",
      "theme='MATERIALS'\n",
      "theme='DIAGNOSTICS'\n",
      "theme='THERAPEUTICS INTERVENTIONS AND CLINICAL STUDIES'\n",
      "theme='RISK FACTORS'\n"
     ]
    }
   ],
   "source": [
    "import pandas as pd\n",
    "import os\n",
    "import json\n",
    "\n",
    "#chemin_archive =\"/users/2023/ds1/share/CORD-19\"\n",
    "chemin_archive = \"D:/archive\"\n",
    "chemin_tables=f'{chemin_archive}/Kaggle/target_tables'\n",
    "elements = os.listdir(chemin_tables)\n",
    "dossiers = [element for element in elements if os.path.isdir(os.path.join(chemin_tables, element))]\n",
    "for dossier in dossiers[1:-1]:\n",
    "    theme=(dossier[2:].replace(\"_\",\" \")).upper()   # le theme est le nom du dossier\n",
    "    print(f'{theme=}')"
   ]
  },
  {
   "cell_type": "code",
   "execution_count": 2,
   "id": "99e15292",
   "metadata": {
    "id": "99e15292",
    "outputId": "7adc14b9-bd37-4024-8d64-aaf739f937dd"
   },
   "outputs": [
    {
     "name": "stderr",
     "output_type": "stream",
     "text": [
      "C:\\Users\\Zeynep\\AppData\\Local\\Temp\\ipykernel_3544\\2389843411.py:1: DtypeWarning: Columns (1,4,5,6,13,14,15,16) have mixed types. Specify dtype option on import or set low_memory=False.\n",
      "  DF=pd.read_csv(f'{chemin_archive}/metadata.csv')\n"
     ]
    },
    {
     "data": {
      "text/plain": [
       "Index(['cord_uid', 'sha', 'source_x', 'title', 'doi', 'pmcid', 'pubmed_id',\n",
       "       'license', 'abstract', 'publish_time', 'authors', 'journal', 'mag_id',\n",
       "       'who_covidence_id', 'arxiv_id', 'pdf_json_files', 'pmc_json_files',\n",
       "       'url', 's2_id'],\n",
       "      dtype='object')"
      ]
     },
     "execution_count": 2,
     "metadata": {},
     "output_type": "execute_result"
    }
   ],
   "source": [
    "DF=pd.read_csv(f'{chemin_archive}/metadata.csv')\n",
    "DF.columns"
   ]
  },
  {
   "cell_type": "code",
   "execution_count": 3,
   "id": "dd758e42",
   "metadata": {
    "id": "dd758e42",
    "outputId": "ec684a40-41ec-4dbc-cbd4-a27a51890299"
   },
   "outputs": [
    {
     "name": "stdout",
     "output_type": "stream",
     "text": [
      "affiliation_dans_pmc=0\n",
      "no_affiliation_dans_pmc=2401600\n"
     ]
    }
   ],
   "source": [
    "chemin1 = f'{chemin_archive}/document_parses/pmc_json'\n",
    "elements1 = os.listdir(chemin1)\n",
    "no_affiliation_dans_pmc=0\n",
    "affiliation_dans_pmc=0\n",
    "for element in elements1:\n",
    "    with open(f'{chemin1}/{element}', 'r') as f:\n",
    "        data = json.load(f)\n",
    "        a=data['metadata']['authors']\n",
    "        if len(a)!=0:\n",
    "            for i in range(len(a)):\n",
    "                if len(data['metadata']['authors'][i]['affiliation'])!=0:\n",
    "                    affiliation_dans_pmc+=1\n",
    "                else:\n",
    "                    no_affiliation_dans_pmc+=1\n",
    "print(f'{affiliation_dans_pmc=}')\n",
    "print(f'{no_affiliation_dans_pmc=}')"
   ]
  },
  {
   "cell_type": "code",
   "execution_count": 4,
   "id": "4dcf8492",
   "metadata": {
    "id": "4dcf8492",
    "outputId": "d762c65d-7f07-41fc-e8b6-a414ff594c8b"
   },
   "outputs": [
    {
     "data": {
      "text/plain": [
       "True"
      ]
     },
     "execution_count": 4,
     "metadata": {},
     "output_type": "execute_result"
    }
   ],
   "source": [
    "len(elements1) == len(DF[DF['pmc_json_files'].notnull()])"
   ]
  },
  {
   "cell_type": "code",
   "execution_count": 5,
   "id": "b931ef5a",
   "metadata": {
    "id": "b931ef5a",
    "outputId": "f89c0b7f-43d6-4475-d5e6-d2e86c240034"
   },
   "outputs": [
    {
     "name": "stdout",
     "output_type": "stream",
     "text": [
      "pmc_files_load=315742\n",
      "no_pmc_files=[]\n"
     ]
    }
   ],
   "source": [
    "no_pmc_files=[]\n",
    "pmc_files_load=0\n",
    "pmc_files=DF[DF['pmc_json_files'].notnull()]['pmc_json_files']\n",
    "for file in pmc_files:\n",
    "    try:\n",
    "        with open(f'{chemin_archive}/{file}', 'r') as f:\n",
    "            data = json.load(f)\n",
    "            pmc_files_load+=1\n",
    "    except:\n",
    "        no_pmc_files.append(file)\n",
    "print(f'{pmc_files_load=}')\n",
    "print(f'{no_pmc_files=}')"
   ]
  },
  {
   "cell_type": "code",
   "execution_count": 6,
   "id": "8fe4ccca",
   "metadata": {
    "id": "8fe4ccca"
   },
   "outputs": [
    {
     "name": "stdout",
     "output_type": "stream",
     "text": [
      "nombre d'article avec un pmc_files et un pdf_files = 299609\n",
      "nombre d'article avec uniquement pmc_files = 16133\n",
      "nombre d'article avec uniquement pdf_files = 74157\n"
     ]
    }
   ],
   "source": [
    "print(\"nombre d'article avec un pmc_files et un pdf_files =\"\n",
    "      ,len(DF[DF['pdf_json_files'].notnull() & DF[\"pmc_json_files\"].notnull()]))\n",
    "print(\"nombre d'article avec uniquement pmc_files =\",len(DF[DF['pdf_json_files'].isnull() & DF[\"pmc_json_files\"].notnull()]))\n",
    "print(\"nombre d'article avec uniquement pdf_files =\",len(DF[DF['pdf_json_files'].notnull() & DF[\"pmc_json_files\"].isnull()]))"
   ]
  },
  {
   "cell_type": "code",
   "execution_count": 7,
   "id": "c73762f5",
   "metadata": {
    "id": "c73762f5",
    "outputId": "abafa9b5-f1c4-4e1e-9639-25a30bdd228a"
   },
   "outputs": [
    {
     "name": "stdout",
     "output_type": "stream",
     "text": [
      "liste d'auteurs dans metadata.csv pour un article = \n",
      " Froissart, Remy; Roze, Denis; Uzest, Marilyne; Galibert, Lionel; Blanc, Stephane; Michalakis, Yannis \n",
      "\n",
      "le fichier pmc_json_files = document_parses/pmc_json/PMC1054884.xml.json \n",
      "\n",
      "liste d'auteurs dans le fichier pmc_json_files pour un article = \n",
      " Froissart, Remy; Roze, Denis; Uzest, Marilyne; Galibert, Lionel; Blanc, Stephane; Michalakis, Yannis; Hull, Roger\n"
     ]
    }
   ],
   "source": [
    "DF_essais=DF[DF['pmc_json_files'].notnull()].reset_index()\n",
    "for k in range(len(DF_essais)):\n",
    "    auteurs_metadata=[]\n",
    "    auteurs_pmc=[]\n",
    "    ligne=DF_essais['authors'][k]\n",
    "    file=DF_essais['pmc_json_files'][k]\n",
    "    if type(ligne)==str:\n",
    "        for author in ligne.split('; '):\n",
    "            auteurs_metadata.append(author)\n",
    "    with open(f'{chemin_archive}/{file}','r') as f:\n",
    "        data=json.load(f)\n",
    "        L=data['metadata']['authors']\n",
    "        if len(L)!=0:\n",
    "            for i in range(len(L)):\n",
    "                name=L[i]['last']+', '+L[i]['first']\n",
    "                auteurs_pmc.append(name)\n",
    "    if len(auteurs_pmc)!=len(auteurs_metadata):\n",
    "        print(\"liste d'auteurs dans metadata.csv pour un article =\",'\\n',ligne,'\\n')\n",
    "        print(\"le fichier pmc_json_files =\",file,'\\n')\n",
    "        print(\"liste d'auteurs dans le fichier pmc_json_files pour un article =\",'\\n',\"; \".join(auteurs_pmc))\n",
    "        break"
   ]
  },
  {
   "cell_type": "code",
   "execution_count": 11,
   "id": "260ef9ac",
   "metadata": {
    "id": "260ef9ac",
    "outputId": "89f1e830-2b7c-489e-9eec-e267318c4e6e"
   },
   "outputs": [
    {
     "name": "stdout",
     "output_type": "stream",
     "text": [
      "document_parses/pmc_json/PMC59574.xml.json\n",
      "['Fagan, Karen', 'McMurtry, Ivan', 'Rodman, David']\n",
      "document_parses/pdf_json/348055649b6b8cf2b9a376498df9bf41f7123605.json\n",
      "[]\n",
      "3\n"
     ]
    }
   ],
   "source": [
    "#Si un article a un fichier pmc_json_files et un fichier pdf_json_files, il n'y a pas les même auteurs dans les 2 fichiers.\n",
    "DF_essais=DF[DF['pdf_json_files'].notnull() & DF[\"pmc_json_files\"].notnull()].reset_index()\n",
    "for k in range(len(DF_essais)):\n",
    "    auteurs_pdf=[]\n",
    "    auteurs_pmc=[]\n",
    "    file_pmc=DF_essais['pmc_json_files'][k]\n",
    "    file_pdf=DF_essais['pdf_json_files'][k]\n",
    "    with open(f'{chemin_archive}/{file_pmc}','r') as f:\n",
    "        data=json.load(f)\n",
    "        L=data['metadata']['authors']\n",
    "        if len(L)!=0:\n",
    "            for i in range(len(L)):\n",
    "                name=L[i]['last']+', '+L[i]['first']\n",
    "                auteurs_pmc.append(name)\n",
    "    liste_file=file_pdf.split('; ')\n",
    "    for fil in liste_file:\n",
    "        try:\n",
    "            with open(f'{chemin_archive}/{fil}', 'r') as f:\n",
    "                data = json.load(f)\n",
    "                L=data['metadata']['authors']\n",
    "                if len(L)!=0:\n",
    "                    for i in range(len(L)):\n",
    "                        name=L[i]['last']+', '+L[i]['first']\n",
    "                        auteurs_pdf.append(name)\n",
    "        except:\n",
    "            print(file_pdf)\n",
    "    if len(auteurs_pmc)!=len(auteurs_pdf):\n",
    "        print(file_pmc)\n",
    "        print(auteurs_pmc)\n",
    "        print(file_pdf)\n",
    "        print(auteurs_pdf)\n",
    "        print(k)\n",
    "        break"
   ]
  },
  {
   "cell_type": "code",
   "execution_count": 12,
   "id": "c5c90e9f",
   "metadata": {
    "id": "c5c90e9f",
    "outputId": "f9649247-7e45-4ef1-e800-9ac485318807"
   },
   "outputs": [
    {
     "name": "stdout",
     "output_type": "stream",
     "text": [
      "nombre de pdf_json_files =  2\n",
      "['Malanoski, Anthony', 'Lin, Baochuan', 'Wang, Zheng', 'Schnur, Joel', 'Stenger, David']\n",
      "[]\n",
      "nombre de pdf_json_files =  2\n",
      "['Mccrate, Nina', 'Varner, Mychel', 'Kim, Kenneth', 'Nagan, Maria', 'Uuu, [', 'Yarian, M', 'Marszalek, E', 'Sochacka, A', 'Malkiewicz, R', 'Guenther, A', 'Miskiewicz, P']\n",
      "['Mccrate, Nina', 'Varner, Mychel', 'Kim, Kenneth', 'Nagan, Maria']\n",
      "nombre de pdf_json_files =  2\n",
      "['Kutyavin, Igor', 'Milesi, Dave', 'Belousov, Yevgeniy', 'Podyminogin, Mikhail', 'Vorobiev, Alexei', 'Gorn, Vladimir', 'Lukhtanov, Eugeny', 'Vermeulen, Nicolaas', 'Mahoney, Walt']\n",
      "[]\n"
     ]
    }
   ],
   "source": [
    "#si un article a plusieurs pdf_json_files, il n'y a pas les même données (auteurs, emails, affiliation) dans ces fichiers.\n",
    "DF_essais=DF[DF['pdf_json_files'].notnull()]\n",
    "for file_pdf in DF_essais['pdf_json_files'][:100]:\n",
    "    if '; ' in file_pdf:\n",
    "        liste_file=file_pdf.split('; ')\n",
    "        print(\"nombre de pdf_json_files = \",len(liste_file))\n",
    "        for fil in liste_file:\n",
    "            auteurs=[]\n",
    "            try:\n",
    "                with open(f'{chemin_archive}/{fil}', 'r') as f:\n",
    "                    data = json.load(f)\n",
    "                    L=data['metadata']['authors']\n",
    "                    if len(L)!=0:\n",
    "                        for i in range(len(L)):\n",
    "                            name=L[i]['last']+', '+L[i]['first']\n",
    "                            auteurs.append(name)              \n",
    "            except:\n",
    "                print(fil,'e')\n",
    "            print(auteurs)"
   ]
  },
  {
   "cell_type": "code",
   "execution_count": 13,
   "id": "f8e68678",
   "metadata": {
    "id": "f8e68678",
    "outputId": "e38d28b0-a4f6-44a6-ede0-d677861a9419"
   },
   "outputs": [
    {
     "name": "stdout",
     "output_type": "stream",
     "text": [
      "401270\n",
      "401214\n",
      "401212\n"
     ]
    }
   ],
   "source": [
    "files_pdf=[]\n",
    "DF_essais=DF[DF['pdf_json_files'].notnull()].reset_index()\n",
    "for file_pdf in DF_essais['pdf_json_files']:\n",
    "    liste_file=file_pdf.split('; ')\n",
    "    for fil in liste_file:\n",
    "        files_pdf.append(fil)\n",
    "print(len(files_pdf))\n",
    "print(len(set(files_pdf)))\n",
    "chemin2 = f'{chemin_archive}/document_parses/pdf_json'\n",
    "elements2 = os.listdir(chemin2)\n",
    "print(len(elements2))"
   ]
  },
  {
   "cell_type": "code",
   "execution_count": 14,
   "id": "5b9de1db",
   "metadata": {
    "id": "5b9de1db"
   },
   "outputs": [
    {
     "name": "stdout",
     "output_type": "stream",
     "text": [
      "pdf_files_load=401268\n",
      "no_pdf_files=['document_parses/pdf_json/c6574ba0edcefbbf9b26914657f49969d2b0a8d6.json', 'document_parses/pdf_json/345c97e357144264e93dacb9f2b80005b26cb750.json']\n"
     ]
    },
    {
     "ename": "NameError",
     "evalue": "name 'pdf_files' is not defined",
     "output_type": "error",
     "traceback": [
      "\u001b[1;31m---------------------------------------------------------------------------\u001b[0m",
      "\u001b[1;31mNameError\u001b[0m                                 Traceback (most recent call last)",
      "Cell \u001b[1;32mIn[14], line 12\u001b[0m\n\u001b[0;32m     10\u001b[0m \u001b[38;5;28mprint\u001b[39m(\u001b[38;5;124mf\u001b[39m\u001b[38;5;124m'\u001b[39m\u001b[38;5;132;01m{\u001b[39;00mpdf_files_load\u001b[38;5;132;01m=}\u001b[39;00m\u001b[38;5;124m'\u001b[39m)\n\u001b[0;32m     11\u001b[0m \u001b[38;5;28mprint\u001b[39m(\u001b[38;5;124mf\u001b[39m\u001b[38;5;124m'\u001b[39m\u001b[38;5;132;01m{\u001b[39;00mno_pdf_files\u001b[38;5;132;01m=}\u001b[39;00m\u001b[38;5;124m'\u001b[39m)\n\u001b[1;32m---> 12\u001b[0m \u001b[38;5;28mprint\u001b[39m(\u001b[38;5;28mlen\u001b[39m(\u001b[43mpdf_files\u001b[49m))\n\u001b[0;32m     13\u001b[0m \u001b[38;5;28mprint\u001b[39m(\u001b[38;5;28mlen\u001b[39m(\u001b[38;5;28mset\u001b[39m(pdf_files)))\n",
      "\u001b[1;31mNameError\u001b[0m: name 'pdf_files' is not defined"
     ]
    }
   ],
   "source": [
    "pdf_files_load=0\n",
    "no_pdf_files=[]\n",
    "for file in files_pdf: #regarder précédent pour files_pdf\n",
    "    try:\n",
    "        with open(f'{chemin_archive}/{file}', 'r') as f:\n",
    "            data = json.load(f)\n",
    "            pdf_files_load+=1\n",
    "    except:\n",
    "        no_pdf_files.append(file)\n",
    "print(f'{pdf_files_load=}')\n",
    "print(f'{no_pdf_files=}')"
   ]
  },
  {
   "cell_type": "code",
   "execution_count": 15,
   "id": "bea0a65a",
   "metadata": {},
   "outputs": [
    {
     "name": "stdout",
     "output_type": "stream",
     "text": [
      "False\n",
      "False\n"
     ]
    }
   ],
   "source": [
    "print('c6574ba0edcefbbf9b26914657f49969d2b0a8d6.json' in elements2)\n",
    "print('345c97e357144264e93dacb9f2b80005b26cb750.json' in elements2)"
   ]
  },
  {
   "cell_type": "code",
   "execution_count": 16,
   "id": "e7e2a935",
   "metadata": {
    "id": "e7e2a935",
    "outputId": "4fd64b17-78c9-44ff-ed8b-7136098a96ef"
   },
   "outputs": [
    {
     "name": "stderr",
     "output_type": "stream",
     "text": [
      "C:\\Users\\Zeynep\\AppData\\Local\\Temp\\ipykernel_3544\\250716358.py:16: DtypeWarning: Columns (1,4,5,6,13,14,15,16) have mixed types. Specify dtype option on import or set low_memory=False.\n",
      "  DF=pd.read_csv(f'{chemin_archive}/metadata.csv')\n"
     ]
    }
   ],
   "source": [
    "import pandas as pd\n",
    "import os\n",
    "import json\n",
    "\n",
    "chemin_archive =\"D:/archive\"\n",
    "chemin_tables=f'{chemin_archive}/Kaggle/target_tables'\n",
    "elements = os.listdir(chemin_tables)\n",
    "dossiers = [element for element in elements if os.path.isdir(os.path.join(chemin_tables, element))]\n",
    "\n",
    "chemin1 = f'{chemin_archive}/document_parses/pmc_json'\n",
    "elements1 = os.listdir(chemin1)\n",
    "\n",
    "chemin2 = f'{chemin_archive}/document_parses/pdf_json'\n",
    "elements2 = os.listdir(chemin2)\n",
    "\n",
    "DF=pd.read_csv(f'{chemin_archive}/metadata.csv')"
   ]
  },
  {
   "cell_type": "code",
   "execution_count": 17,
   "id": "9491ab79",
   "metadata": {
    "id": "9491ab79",
    "outputId": "644b08ad-462b-43ae-e7a9-a294847663af"
   },
   "outputs": [
    {
     "name": "stdout",
     "output_type": "stream",
     "text": [
      "Le fichier Are there studies about phenotypic change_.csv n'a pas de studytype\n",
      "Le fichier How can we measure changes in COVID-19_s behavior in a human host as the virus evolves over time_.csv n'a pas de studytype\n",
      "Le fichier Studies to monitor potential adaptations.csv n'a pas de studytype\n",
      "Le fichier What is known about adaptations (mutations) of the virus_.csv n'a pas de studytype\n",
      "2488\n",
      "2488\n",
      "1044\n"
     ]
    }
   ],
   "source": [
    "Articles=[]\n",
    "Study_Article=[]\n",
    "for dossier in dossiers[1:-1]:\n",
    "    chemin = f'{chemin_tables}/{dossier}'\n",
    "    elements = os.listdir(chemin)\n",
    "    for element in elements :\n",
    "        df=pd.read_csv(f'{chemin}/{element}')\n",
    "        try :\n",
    "            for i in range(len(df)):\n",
    "                study_article=(df['Study Type'][i],df['Study'][i])\n",
    "                Articles.append(df['Study'][i])\n",
    "                Study_Article.append(study_article)\n",
    "        except:\n",
    "            print(f\"Le fichier {element} n'a pas de studytype\")\n",
    "print(len(Study_Article))\n",
    "#print(Study_Article)\n",
    "print(len(Articles))\n",
    "print(len(set(Articles)))"
   ]
  },
  {
   "cell_type": "code",
   "execution_count": 18,
   "id": "b24be3a7",
   "metadata": {
    "id": "b24be3a7",
    "outputId": "53ae1fe7-270d-45ec-c637-bcf9eadc9617"
   },
   "outputs": [
    {
     "name": "stdout",
     "output_type": "stream",
     "text": [
      "['RETROSPECTIVE OBSERVATIONAL STUDY', 'CASE SERIES']\n",
      "Epidemiological and clinical characteristics of COVID-19 in adolescents and young adults\n"
     ]
    }
   ],
   "source": [
    "for Article in set(Articles):\n",
    "    types=[]\n",
    "    for i in range(len(Study_Article)):\n",
    "        if Study_Article[i][1]==Article:\n",
    "            try:\n",
    "                s=Study_Article[i][0].upper()\n",
    "            except:\n",
    "                s=Study_Article[i][0]\n",
    "            types.append(s)\n",
    "    l=len(list(set(types)))\n",
    "    if l>=2:\n",
    "        print(list(set(types)))\n",
    "        print(Article)\n",
    "        break\n",
    "# Nous avons découvert qu'un article pouvait avoir 2 StudyType (= type de publications)"
   ]
  }
 ],
 "metadata": {
  "colab": {
   "provenance": []
  },
  "kernelspec": {
   "display_name": "Python 3 (ipykernel)",
   "language": "python",
   "name": "python3"
  },
  "language_info": {
   "codemirror_mode": {
    "name": "ipython",
    "version": 3
   },
   "file_extension": ".py",
   "mimetype": "text/x-python",
   "name": "python",
   "nbconvert_exporter": "python",
   "pygments_lexer": "ipython3",
   "version": "3.10.9"
  }
 },
 "nbformat": 4,
 "nbformat_minor": 5
}
